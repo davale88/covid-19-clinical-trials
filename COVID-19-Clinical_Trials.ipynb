{
 "cells": [
  {
   "cell_type": "markdown",
   "id": "dated-arbor",
   "metadata": {},
   "source": [
    "<a id='top'></a>\n",
    "# Investigation of COVID-19 Clinical Trial Metadata\n",
    "#### SOURCE: [clinicaltrials.gov](https://clinicaltrials.gov/ct2/results?cond=COVID-19)\n",
    "Data downloaded January 22, 2021, on which 4,542 studies were returned on a search for 'COVID-19'.\n",
    "\n",
    "#### CONTENTS:\n",
    "- **01.** [Data Ingestion](#section1)\n",
    "- **02.** [Exploratory Data Analysis (EDA)](#section2)\n",
    "- **03.** [Modeling](#section3)\n",
    "- **04.** [Conclusion](#section4)\n",
    "    \n",
    "#### QUESTIONS:\n",
    "- What are some potential uses for the densely populated text fields (e.g. detailed_description)?\n",
    "- How many people are currently enrolled in COVID-19 studies?\n",
    "- How many COVID-19 studies have been completed to date?\n",
    "- Can we predict enrollment numbers for COVID-19 studies? If not, what can we potentially predict?"
   ]
  },
  {
   "cell_type": "code",
   "execution_count": 1,
   "id": "compound-engineer",
   "metadata": {},
   "outputs": [],
   "source": [
    "import os\n",
    "import csv\n",
    "import json\n",
    "\n",
    "import xmltodict\n",
    "import xml.etree.ElementTree as ET\n",
    "\n",
    "import numpy as np\n",
    "import pandas as pd\n",
    "import matplotlib.pyplot as plt\n",
    "import matplotlib.dates as mdates\n",
    "import seaborn as sns\n",
    "\n",
    "from tqdm import tqdm\n",
    "\n",
    "from sklearn.pipeline import Pipeline\n",
    "from sklearn.impute import SimpleImputer\n",
    "from sklearn.compose import ColumnTransformer\n",
    "from sklearn.preprocessing import StandardScaler\n",
    "from sklearn.preprocessing import OneHotEncoder\n",
    "from sklearn.model_selection import KFold\n",
    "from sklearn.model_selection import GridSearchCV\n",
    "from sklearn.model_selection import train_test_split\n",
    "from sklearn.ensemble import GradientBoostingClassifier\n",
    "from sklearn.metrics import classification_report\n",
    "from sklearn.metrics import plot_confusion_matrix"
   ]
  },
  {
   "cell_type": "code",
   "execution_count": 2,
   "id": "middle-excerpt",
   "metadata": {},
   "outputs": [],
   "source": [
    "XML_DATA_DIR = './xml-data/COVID-19-search-result-ct-gov'\n",
    "TXT_DATA_DIR = './txt-data/COVID-19-clinical-trials-text'\n",
    "CSV_DATA_DIR = './csv-data/COVID-19-clinical-trials-csv'"
   ]
  },
  {
   "cell_type": "markdown",
   "id": "simplified-stevens",
   "metadata": {},
   "source": [
    "<a id='section1'></a>\n",
    "## 01. Data Ingestion"
   ]
  },
  {
   "cell_type": "code",
   "execution_count": 3,
   "id": "quick-protection",
   "metadata": {},
   "outputs": [],
   "source": [
    "def xml_to_txt(in_path, out_path):\n",
    "    \"\"\"Converts .xml files to .txt files for preprocessing.\n",
    "    Args:\n",
    "        XML_DATA_DIR (path) : location of .xml input files\n",
    "        TXT_DATA_DIR (path) : location of .txt output files\n",
    "    \"\"\"\n",
    "    for root, dirs, in_files in os.walk(in_path):\n",
    "        for in_file in tqdm(in_files):\n",
    "\n",
    "            out_file = in_file.split('.')[0] + '.txt'\n",
    "            with open(f'{in_path}/{in_file}', 'r') as i:\n",
    "                tree = ET.parse(i)\n",
    "                root = tree.getroot()\n",
    "            i.close()\n",
    "\n",
    "            with open(f'{out_path}/{out_file}', 'w') as o:\n",
    "                for child in root:\n",
    "                    o.write(child.tag + ' ' + child.text + '\\n')\n",
    "                    for grandchild in child:\n",
    "                        o.write(grandchild.tag + ' ' + grandchild.text + '\\n')\n",
    "            o.close()\n",
    "    return"
   ]
  },
  {
   "cell_type": "code",
   "execution_count": 4,
   "id": "complex-array",
   "metadata": {},
   "outputs": [
    {
     "name": "stderr",
     "output_type": "stream",
     "text": [
      "100%|██████████| 4542/4542 [00:02<00:00, 1621.77it/s]\n"
     ]
    }
   ],
   "source": [
    "xml_to_txt(XML_DATA_DIR, TXT_DATA_DIR)"
   ]
  },
  {
   "cell_type": "code",
   "execution_count": 5,
   "id": "guilty-mount",
   "metadata": {
    "scrolled": true
   },
   "outputs": [
    {
     "name": "stdout",
     "output_type": "stream",
     "text": [
      "required_header \n",
      "    \n",
      "download_date ClinicalTrials.gov processed this data on January 22, 2021\n",
      "link_text Link to the current ClinicalTrials.gov record.\n",
      "url https://clinicaltrials.gov/show/NCT00571389\n",
      "id_info \n",
      "    \n",
      "org_study_id BioCytics 0001\n",
      "secondary_id WIRB Protocol # 20070969\n",
      "nct_id NCT00571389\n",
      "brief_title Isolation and Culture of Immune Cells and Circulating Tumor Cells From Peripheral Blood and Leukapheresis Products\n",
      "official_title A Study to Facilitate Development of an Ex-Vivo Device Platform for Circulating Tumor Cell and Immune Cell Harvesting, Banking, and Apoptosis-Viability Assay\n",
      "sponsors \n",
      "    \n",
      "lead_sponsor \n",
      "      \n",
      "source BioCytics, Inc.\n",
      "oversight_info \n",
      "    \n",
      "has_dmc Yes\n",
      "brief_summary \n",
      "    \n",
      "textblock \n",
      "      Primary Objective:\n",
      "\n",
      "      This is a study to investigate the feasibility of harvesting, expanding in culture, and\n",
      "      freezing circulating tumor cells and immune cells from cancer patients and healthy\n",
      "      volunteers.\n",
      "    \n",
      "overall_status Recruiting\n",
      "start_date November 2007\n",
      "completion_date February 2025\n",
      "primary_completion_date February 2025\n",
      "study_type Observational\n",
      "has_expanded_access No\n",
      "study_design_info \n",
      "    \n",
      "observational_model Case-Only\n",
      "time_perspective Prospective\n",
      "enrollment 1000\n",
      "condition Solid Tumor, Adult\n",
      "condition Healthy Donors\n",
      "condition COVID-19 Donors\n",
      "biospec_retention Samples With DNA\n",
      "biospec_descr \n",
      "    \n",
      "textblock \n",
      "      Peripheral whole blood, immune cells, circulating tumor cells, discarded tissue obtained from\n",
      "      biopsies and fluid (paracentesis, pleuracentesis), plasma-leukapheresis products, saliva,\n",
      "      urine and stool.\n",
      "    \n",
      "eligibility \n",
      "    \n",
      "study_pop \n",
      "      \n",
      "sampling_method Non-Probability Sample\n",
      "criteria \n",
      "      \n",
      "gender All\n",
      "minimum_age 18 Years\n",
      "maximum_age N/A\n",
      "healthy_volunteers Accepts Healthy Volunteers\n",
      "overall_official \n",
      "    \n",
      "last_name John Powderly, MD\n",
      "role Principal Investigator\n",
      "affiliation Carolina BioOncology Institute\n",
      "overall_contact \n",
      "    \n",
      "last_name John Powderly, MD\n",
      "phone 704-947-6599\n",
      "email jpowderly@carolinabiooncology.org\n",
      "location \n",
      "    \n",
      "facility \n",
      "      \n",
      "status Recruiting\n",
      "contact \n",
      "      \n",
      "investigator \n",
      "      \n",
      "location_countries \n",
      "    \n",
      "country United States\n",
      "link \n",
      "    \n",
      "url http://www.carolinabiooncology.org\n",
      "description Related Info\n",
      "verification_date September 2020\n",
      "study_first_submitted December 10, 2007\n",
      "study_first_submitted_qc December 11, 2007\n",
      "study_first_posted December 12, 2007\n",
      "last_update_submitted September 8, 2020\n",
      "last_update_submitted_qc September 8, 2020\n",
      "last_update_posted September 10, 2020\n",
      "responsible_party \n",
      "    \n",
      "responsible_party_type Sponsor\n",
      "keyword All Stages of cancer\n",
      "keyword All stages of solid tumor origin\n",
      "condition_browse \n",
      "    \n",
      "    \n",
      "mesh_term Neoplastic Cells, Circulating\n"
     ]
    }
   ],
   "source": [
    "# Examine one of the newly created text files\n",
    "!cat txt-data/COVID-19-clinical-trials-text/NCT00571389.txt"
   ]
  },
  {
   "cell_type": "markdown",
   "id": "atlantic-gates",
   "metadata": {},
   "source": [
    "#### Unit tests for JSON parsing"
   ]
  },
  {
   "cell_type": "code",
   "execution_count": 6,
   "id": "outdoor-holocaust",
   "metadata": {
    "scrolled": true
   },
   "outputs": [
    {
     "name": "stdout",
     "output_type": "stream",
     "text": [
      "{'clinical_study': {'@rank': '4341', 'required_header': {'download_date': 'ClinicalTrials.gov processed this data on January 22, 2021', 'link_text': 'Link to the current ClinicalTrials.gov record.', 'url': 'https://clinicaltrials.gov/show/NCT00571389'}, 'id_info': {'org_study_id': 'BioCytics 0001', 'secondary_id': 'WIRB Protocol # 20070969', 'nct_id': 'NCT00571389'}, 'brief_title': 'Isolation and Culture of Immune Cells and Circulating Tumor Cells From Peripheral Blood and Leukapheresis Products', 'official_title': 'A Study to Facilitate Development of an Ex-Vivo Device Platform for Circulating Tumor Cell and Immune Cell Harvesting, Banking, and Apoptosis-Viability Assay', 'sponsors': {'lead_sponsor': {'agency': 'BioCytics, Inc.', 'agency_class': 'Industry'}}, 'source': 'BioCytics, Inc.', 'oversight_info': {'has_dmc': 'Yes'}, 'brief_summary': {'textblock': 'Primary Objective:\\r\\n\\r\\n      This is a study to investigate the feasibility of harvesting, expanding in culture, and\\r\\n      freezing circulating tumor cells and immune cells from cancer patients and healthy\\r\\n      volunteers.'}, 'overall_status': 'Recruiting', 'start_date': 'November 2007', 'completion_date': {'@type': 'Anticipated', '#text': 'February 2025'}, 'primary_completion_date': {'@type': 'Anticipated', '#text': 'February 2025'}, 'study_type': 'Observational', 'has_expanded_access': 'No', 'study_design_info': {'observational_model': 'Case-Only', 'time_perspective': 'Prospective'}, 'enrollment': {'@type': 'Anticipated', '#text': '1000'}, 'condition': ['Solid Tumor, Adult', 'Healthy Donors', 'COVID-19 Donors'], 'biospec_retention': 'Samples With DNA', 'biospec_descr': {'textblock': 'Peripheral whole blood, immune cells, circulating tumor cells, discarded tissue obtained from\\r\\n      biopsies and fluid (paracentesis, pleuracentesis), plasma-leukapheresis products, saliva,\\r\\n      urine and stool.'}, 'eligibility': {'study_pop': {'textblock': 'The population of patients to be enrolled for this study will be adults (males and females)\\r\\n        with histological proven solid tumors of any stage, seen for routine cancer care at\\r\\n        participating community cancer clinic sites. Patients on clinical trials with experimental\\r\\n        study drugs will be allowed to participate in this observational prospective study.\\r\\n\\r\\n        Healthy volunteers will also make up a portion of the study population'}, 'sampling_method': 'Non-Probability Sample', 'criteria': {'textblock': \"Inclusion Criteria for Biospecimen(s) collection:\\r\\n\\r\\n          -  Histological diagnosis of metastatic stage IV or locally advanced (unresectable) stage\\r\\n             III cancer of any solid tumor type, histological non-metastatic cancer of any solid\\r\\n             tumor type of any stage and healthy volunteers\\r\\n\\r\\n          -  Age ≥ 18yo\\r\\n\\r\\n          -  Life expectancy ≥ 12 weeks\\r\\n\\r\\n          -  ECOG Performance Status of 0, 1, 2, or 3 (Appendix 2)\\r\\n\\r\\n          -  Negative serology screening test for HIV, HBV and HCV; in event of a postive result, a\\r\\n             reflex PCR may be performed and if negative, the pt may be allowed on the study\\r\\n\\r\\n        Additional Subject Eligibility for Leukapheresis Collection:\\r\\n\\r\\n          -  ECOG Performance Status of 0 or 1\\r\\n\\r\\n          -  Screening laboratory values must meet following criteria on leukapheresis collection\\r\\n             day:\\r\\n\\r\\n               -  WBC ≥ 2000/µL\\r\\n\\r\\n               -  Neutrophils ≥ 1500/µL\\r\\n\\r\\n               -  Platelets ≥ 100 x103/µL\\r\\n\\r\\n               -  Hemoglobin ≥ 9 g/dL\\r\\n\\r\\n               -  Creatinine ≤ 2.5 x ULN\\r\\n\\r\\n               -  AST ≤ 2.5 x ULN without, and ≤ 5 x ULN with hepatic metastases\\r\\n\\r\\n               -  Bilirubin ≤ 2 x ULN (except patients with Gilbert's syndrome, who must have total\\r\\n                  bilirubin < 3.0 mg/dL)\\r\\n\\r\\n        Exclusion Criteria:\\r\\n\\r\\n          -  Patients with any active infection requiring therapy (fever, localizing source) will\\r\\n             be excluded until the infection resolves.\\r\\n\\r\\n          -  Confirmed PCR test result for HIV, HBV or HCV\\r\\n\\r\\n          -  Underlying medical condition that, in the Principal Investigator's or treating\\r\\n             oncologist's opinion, will obscure the interpretation of the patient's safety.\"}, 'gender': 'All', 'minimum_age': '18 Years', 'maximum_age': 'N/A', 'healthy_volunteers': 'Accepts Healthy Volunteers'}, 'overall_official': {'last_name': 'John Powderly, MD', 'role': 'Principal Investigator', 'affiliation': 'Carolina BioOncology Institute'}, 'overall_contact': {'last_name': 'John Powderly, MD', 'phone': '704-947-6599', 'email': 'jpowderly@carolinabiooncology.org'}, 'location': {'facility': {'name': 'Carolina BioOncology Institute', 'address': {'city': 'Huntersville', 'state': 'North Carolina', 'zip': '28078', 'country': 'United States'}}, 'status': 'Recruiting', 'contact': {'last_name': 'Rochelle Emery, MD, CCRC', 'phone': '704-947-6599', 'phone_ext': '1147', 'email': 'remery@carolinabiooncology.org'}, 'investigator': {'last_name': 'Rochelle Emery, MD', 'role': 'Sub-Investigator'}}, 'location_countries': {'country': 'United States'}, 'link': {'url': 'http://www.carolinabiooncology.org', 'description': 'Related Info'}, 'verification_date': 'September 2020', 'study_first_submitted': 'December 10, 2007', 'study_first_submitted_qc': 'December 11, 2007', 'study_first_posted': {'@type': 'Estimate', '#text': 'December 12, 2007'}, 'last_update_submitted': 'September 8, 2020', 'last_update_submitted_qc': 'September 8, 2020', 'last_update_posted': {'@type': 'Actual', '#text': 'September 10, 2020'}, 'responsible_party': {'responsible_party_type': 'Sponsor'}, 'keyword': ['All Stages of cancer', 'All stages of solid tumor origin'], 'condition_browse': {'mesh_term': 'Neoplastic Cells, Circulating'}}}\n"
     ]
    }
   ],
   "source": [
    "with open('./xml-data/COVID-19-search-result-ct-gov/NCT00571389.xml') as test:\n",
    "    xml_dict = json.dumps(xmltodict.parse(test.read()), indent=4)\n",
    "    json_dict = json.loads(xml_dict)\n",
    "    print(json_dict)"
   ]
  },
  {
   "cell_type": "code",
   "execution_count": 7,
   "id": "bulgarian-cemetery",
   "metadata": {},
   "outputs": [
    {
     "data": {
      "text/html": [
       "<div>\n",
       "<style scoped>\n",
       "    .dataframe tbody tr th:only-of-type {\n",
       "        vertical-align: middle;\n",
       "    }\n",
       "\n",
       "    .dataframe tbody tr th {\n",
       "        vertical-align: top;\n",
       "    }\n",
       "\n",
       "    .dataframe thead th {\n",
       "        text-align: right;\n",
       "    }\n",
       "</style>\n",
       "<table border=\"1\" class=\"dataframe\">\n",
       "  <thead>\n",
       "    <tr style=\"text-align: right;\">\n",
       "      <th></th>\n",
       "      <th>@rank</th>\n",
       "      <th>brief_title</th>\n",
       "      <th>official_title</th>\n",
       "      <th>source</th>\n",
       "      <th>overall_status</th>\n",
       "      <th>start_date</th>\n",
       "      <th>study_type</th>\n",
       "      <th>has_expanded_access</th>\n",
       "      <th>condition</th>\n",
       "      <th>biospec_retention</th>\n",
       "      <th>...</th>\n",
       "      <th>location.investigator.role</th>\n",
       "      <th>location_countries.country</th>\n",
       "      <th>link.url</th>\n",
       "      <th>link.description</th>\n",
       "      <th>study_first_posted.@type</th>\n",
       "      <th>study_first_posted.#text</th>\n",
       "      <th>last_update_posted.@type</th>\n",
       "      <th>last_update_posted.#text</th>\n",
       "      <th>responsible_party.responsible_party_type</th>\n",
       "      <th>condition_browse.mesh_term</th>\n",
       "    </tr>\n",
       "  </thead>\n",
       "  <tbody>\n",
       "    <tr>\n",
       "      <th>0</th>\n",
       "      <td>4341</td>\n",
       "      <td>Isolation and Culture of Immune Cells and Circ...</td>\n",
       "      <td>A Study to Facilitate Development of an Ex-Viv...</td>\n",
       "      <td>BioCytics, Inc.</td>\n",
       "      <td>Recruiting</td>\n",
       "      <td>November 2007</td>\n",
       "      <td>Observational</td>\n",
       "      <td>No</td>\n",
       "      <td>[Solid Tumor, Adult, Healthy Donors, COVID-19 ...</td>\n",
       "      <td>Samples With DNA</td>\n",
       "      <td>...</td>\n",
       "      <td>Sub-Investigator</td>\n",
       "      <td>United States</td>\n",
       "      <td>http://www.carolinabiooncology.org</td>\n",
       "      <td>Related Info</td>\n",
       "      <td>Estimate</td>\n",
       "      <td>December 12, 2007</td>\n",
       "      <td>Actual</td>\n",
       "      <td>September 10, 2020</td>\n",
       "      <td>Sponsor</td>\n",
       "      <td>Neoplastic Cells, Circulating</td>\n",
       "    </tr>\n",
       "  </tbody>\n",
       "</table>\n",
       "<p>1 rows × 69 columns</p>\n",
       "</div>"
      ],
      "text/plain": [
       "  @rank                                        brief_title  \\\n",
       "0  4341  Isolation and Culture of Immune Cells and Circ...   \n",
       "\n",
       "                                      official_title           source  \\\n",
       "0  A Study to Facilitate Development of an Ex-Viv...  BioCytics, Inc.   \n",
       "\n",
       "  overall_status     start_date     study_type has_expanded_access  \\\n",
       "0     Recruiting  November 2007  Observational                  No   \n",
       "\n",
       "                                           condition biospec_retention  ...  \\\n",
       "0  [Solid Tumor, Adult, Healthy Donors, COVID-19 ...  Samples With DNA  ...   \n",
       "\n",
       "  location.investigator.role location_countries.country  \\\n",
       "0           Sub-Investigator              United States   \n",
       "\n",
       "                             link.url link.description  \\\n",
       "0  http://www.carolinabiooncology.org     Related Info   \n",
       "\n",
       "  study_first_posted.@type study_first_posted.#text last_update_posted.@type  \\\n",
       "0                 Estimate        December 12, 2007                   Actual   \n",
       "\n",
       "  last_update_posted.#text responsible_party.responsible_party_type  \\\n",
       "0       September 10, 2020                                  Sponsor   \n",
       "\n",
       "      condition_browse.mesh_term  \n",
       "0  Neoplastic Cells, Circulating  \n",
       "\n",
       "[1 rows x 69 columns]"
      ]
     },
     "execution_count": 7,
     "metadata": {},
     "output_type": "execute_result"
    }
   ],
   "source": [
    "df = pd.json_normalize(json_dict['clinical_study'])\n",
    "df.to_csv('test.csv')\n",
    "df"
   ]
  },
  {
   "cell_type": "code",
   "execution_count": 8,
   "id": "geographic-extent",
   "metadata": {},
   "outputs": [],
   "source": [
    "def xml_to_csv(in_path, out_path):\n",
    "    \"\"\"Converts .xml files to .csv files for downstream merger step.\n",
    "    Args:\n",
    "        in_path  (str) : location of .xml input files\n",
    "        out_path (str) : location of .csv output files\n",
    "    \"\"\"\n",
    "    for root, dirs, in_files in os.walk(in_path):\n",
    "        for in_file in tqdm(in_files):\n",
    "            out_file = in_file.split('.')[0] + '.csv'\n",
    "            with open(f'{in_path}/{in_file}', 'r') as i:\n",
    "                xml_dict = json.dumps(xmltodict.parse(i.read()))\n",
    "                json_dict = json.loads(xml_dict)\n",
    "            \n",
    "            df = pd.json_normalize(json_dict['clinical_study'])\n",
    "            df.to_csv(f'{out_path}/{out_file}')\n",
    "    return"
   ]
  },
  {
   "cell_type": "code",
   "execution_count": 9,
   "id": "acoustic-porcelain",
   "metadata": {},
   "outputs": [
    {
     "name": "stderr",
     "output_type": "stream",
     "text": [
      "100%|██████████| 4542/4542 [00:33<00:00, 135.54it/s]\n"
     ]
    }
   ],
   "source": [
    "xml_to_csv(XML_DATA_DIR, CSV_DATA_DIR)"
   ]
  },
  {
   "cell_type": "code",
   "execution_count": 10,
   "id": "collectible-choice",
   "metadata": {},
   "outputs": [],
   "source": [
    "def merge_csv_records(csv_path):\n",
    "    \"\"\"Combines all .csv files for downstream EDA and modeling.\n",
    "    Args:\n",
    "        csv_path (str) : location of .csv files to be combined\n",
    "    \"\"\"\n",
    "    data_frames = []\n",
    "    out_file = 'covid-19-clinical-trials-master.csv'\n",
    "    \n",
    "    for root, dirs, in_files in os.walk(csv_path):\n",
    "        for in_file in tqdm(in_files):\n",
    "            df = pd.read_csv(f'{csv_path}/{in_file}')\n",
    "            data_frames.append(df)\n",
    "\n",
    "    final_df = pd.concat(data_frames)\n",
    "    final_df.to_csv(f'{CSV_DATA_DIR}/{out_file}')"
   ]
  },
  {
   "cell_type": "code",
   "execution_count": 11,
   "id": "exceptional-sleeping",
   "metadata": {},
   "outputs": [
    {
     "name": "stderr",
     "output_type": "stream",
     "text": [
      "100%|██████████| 4542/4542 [00:26<00:00, 169.95it/s]\n",
      "0it [00:00, ?it/s]\n"
     ]
    },
    {
     "name": "stdout",
     "output_type": "stream",
     "text": [
      "CPU times: user 50.5 s, sys: 847 ms, total: 51.3 s\n",
      "Wall time: 51 s\n"
     ]
    }
   ],
   "source": [
    "%%time\n",
    "merge_csv_records(CSV_DATA_DIR)"
   ]
  },
  {
   "cell_type": "markdown",
   "id": "surprising-lingerie",
   "metadata": {},
   "source": [
    "Combining the 4542 .csv files results in a 42MB final output file, or roughly 1MB of text data per record."
   ]
  },
  {
   "cell_type": "code",
   "execution_count": 12,
   "id": "auburn-forwarding",
   "metadata": {},
   "outputs": [
    {
     "name": "stdout",
     "output_type": "stream",
     "text": [
      "-rw-r--r--  1 davale  staff    42M Jan 26 16:58 csv-data/COVID-19-clinical-trials-csv/covid-19-clinical-trials-master.csv\n"
     ]
    }
   ],
   "source": [
    "!ls -lh csv-data/COVID-19-clinical-trials-csv/covid*"
   ]
  },
  {
   "cell_type": "markdown",
   "id": "informational-boxing",
   "metadata": {},
   "source": [
    "#### [**BACK TO TOP**](#top)"
   ]
  },
  {
   "cell_type": "markdown",
   "id": "constitutional-honey",
   "metadata": {},
   "source": [
    "<a id='section2'></a>\n",
    "## 02. Exploratory Data Analysis (EDA)\n",
    "#### REFERENCE: [clinicaltrials.gov](https://clinicaltrials.gov/ct2/resources/trends)"
   ]
  },
  {
   "cell_type": "code",
   "execution_count": 13,
   "id": "worse-variable",
   "metadata": {},
   "outputs": [
    {
     "data": {
      "text/html": [
       "<div>\n",
       "<style scoped>\n",
       "    .dataframe tbody tr th:only-of-type {\n",
       "        vertical-align: middle;\n",
       "    }\n",
       "\n",
       "    .dataframe tbody tr th {\n",
       "        vertical-align: top;\n",
       "    }\n",
       "\n",
       "    .dataframe thead th {\n",
       "        text-align: right;\n",
       "    }\n",
       "</style>\n",
       "<table border=\"1\" class=\"dataframe\">\n",
       "  <thead>\n",
       "    <tr style=\"text-align: right;\">\n",
       "      <th></th>\n",
       "      <th>Unnamed: 0</th>\n",
       "      <th>Unnamed: 0.1</th>\n",
       "      <th>@rank</th>\n",
       "      <th>brief_title</th>\n",
       "      <th>acronym</th>\n",
       "      <th>official_title</th>\n",
       "      <th>source</th>\n",
       "      <th>overall_status</th>\n",
       "      <th>phase</th>\n",
       "      <th>study_type</th>\n",
       "      <th>...</th>\n",
       "      <th>clinical_results.reported_events.other_events.category_list.category.title</th>\n",
       "      <th>clinical_results.reported_events.other_events.category_list.category.event_list.event.sub_title</th>\n",
       "      <th>clinical_results.reported_events.other_events.category_list.category.event_list.event.counts</th>\n",
       "      <th>clinical_results.limitations_and_caveats</th>\n",
       "      <th>id_info.nct_alias</th>\n",
       "      <th>clinical_results.baseline.population</th>\n",
       "      <th>clinical_results.participant_flow.period_list.period</th>\n",
       "      <th>clinical_results.reported_events.other_events.category_list.category.event_list.event.counts.@group_id</th>\n",
       "      <th>clinical_results.reported_events.other_events.category_list.category.event_list.event.counts.@subjects_affected</th>\n",
       "      <th>clinical_results.reported_events.other_events.category_list.category.event_list.event.counts.@subjects_at_risk</th>\n",
       "    </tr>\n",
       "  </thead>\n",
       "  <tbody>\n",
       "    <tr>\n",
       "      <th>0</th>\n",
       "      <td>0</td>\n",
       "      <td>0</td>\n",
       "      <td>44</td>\n",
       "      <td>Comparison of Two Doses of Enoxaparin for Thro...</td>\n",
       "      <td>X-Covid 19</td>\n",
       "      <td>Enoxaparin for Thromboprophylaxis in Hospitali...</td>\n",
       "      <td>Niguarda Hospital</td>\n",
       "      <td>Recruiting</td>\n",
       "      <td>Phase 3</td>\n",
       "      <td>Interventional</td>\n",
       "      <td>...</td>\n",
       "      <td>NaN</td>\n",
       "      <td>NaN</td>\n",
       "      <td>NaN</td>\n",
       "      <td>NaN</td>\n",
       "      <td>NaN</td>\n",
       "      <td>NaN</td>\n",
       "      <td>NaN</td>\n",
       "      <td>NaN</td>\n",
       "      <td>NaN</td>\n",
       "      <td>NaN</td>\n",
       "    </tr>\n",
       "    <tr>\n",
       "      <th>1</th>\n",
       "      <td>0</td>\n",
       "      <td>0</td>\n",
       "      <td>3835</td>\n",
       "      <td>Remote COVID-19 Symptom Tracking for Cancer Pa...</td>\n",
       "      <td>NaN</td>\n",
       "      <td>Remote COVID-19 Symptom Tracking and Improved ...</td>\n",
       "      <td>University of Utah</td>\n",
       "      <td>Enrolling by invitation</td>\n",
       "      <td>NaN</td>\n",
       "      <td>Interventional</td>\n",
       "      <td>...</td>\n",
       "      <td>NaN</td>\n",
       "      <td>NaN</td>\n",
       "      <td>NaN</td>\n",
       "      <td>NaN</td>\n",
       "      <td>NaN</td>\n",
       "      <td>NaN</td>\n",
       "      <td>NaN</td>\n",
       "      <td>NaN</td>\n",
       "      <td>NaN</td>\n",
       "      <td>NaN</td>\n",
       "    </tr>\n",
       "    <tr>\n",
       "      <th>2</th>\n",
       "      <td>0</td>\n",
       "      <td>0</td>\n",
       "      <td>1294</td>\n",
       "      <td>Myeloid Cells in Patients With Covid-19 Pneumonia</td>\n",
       "      <td>MyeloidCovid</td>\n",
       "      <td>Myeloid Cells in Patients With Covid-19 Pneumonia</td>\n",
       "      <td>Assistance Publique - Hôpitaux de Paris</td>\n",
       "      <td>Not yet recruiting</td>\n",
       "      <td>NaN</td>\n",
       "      <td>Interventional</td>\n",
       "      <td>...</td>\n",
       "      <td>NaN</td>\n",
       "      <td>NaN</td>\n",
       "      <td>NaN</td>\n",
       "      <td>NaN</td>\n",
       "      <td>NaN</td>\n",
       "      <td>NaN</td>\n",
       "      <td>NaN</td>\n",
       "      <td>NaN</td>\n",
       "      <td>NaN</td>\n",
       "      <td>NaN</td>\n",
       "    </tr>\n",
       "  </tbody>\n",
       "</table>\n",
       "<p>3 rows × 221 columns</p>\n",
       "</div>"
      ],
      "text/plain": [
       "   Unnamed: 0  Unnamed: 0.1  @rank  \\\n",
       "0           0             0     44   \n",
       "1           0             0   3835   \n",
       "2           0             0   1294   \n",
       "\n",
       "                                         brief_title       acronym  \\\n",
       "0  Comparison of Two Doses of Enoxaparin for Thro...    X-Covid 19   \n",
       "1  Remote COVID-19 Symptom Tracking for Cancer Pa...           NaN   \n",
       "2  Myeloid Cells in Patients With Covid-19 Pneumonia  MyeloidCovid   \n",
       "\n",
       "                                      official_title  \\\n",
       "0  Enoxaparin for Thromboprophylaxis in Hospitali...   \n",
       "1  Remote COVID-19 Symptom Tracking and Improved ...   \n",
       "2  Myeloid Cells in Patients With Covid-19 Pneumonia   \n",
       "\n",
       "                                    source           overall_status    phase  \\\n",
       "0                        Niguarda Hospital               Recruiting  Phase 3   \n",
       "1                       University of Utah  Enrolling by invitation      NaN   \n",
       "2  Assistance Publique - Hôpitaux de Paris       Not yet recruiting      NaN   \n",
       "\n",
       "       study_type  ...  \\\n",
       "0  Interventional  ...   \n",
       "1  Interventional  ...   \n",
       "2  Interventional  ...   \n",
       "\n",
       "  clinical_results.reported_events.other_events.category_list.category.title  \\\n",
       "0                                                NaN                           \n",
       "1                                                NaN                           \n",
       "2                                                NaN                           \n",
       "\n",
       "  clinical_results.reported_events.other_events.category_list.category.event_list.event.sub_title  \\\n",
       "0                                                NaN                                                \n",
       "1                                                NaN                                                \n",
       "2                                                NaN                                                \n",
       "\n",
       "   clinical_results.reported_events.other_events.category_list.category.event_list.event.counts  \\\n",
       "0                                                NaN                                              \n",
       "1                                                NaN                                              \n",
       "2                                                NaN                                              \n",
       "\n",
       "  clinical_results.limitations_and_caveats id_info.nct_alias  \\\n",
       "0                                      NaN               NaN   \n",
       "1                                      NaN               NaN   \n",
       "2                                      NaN               NaN   \n",
       "\n",
       "  clinical_results.baseline.population  \\\n",
       "0                                  NaN   \n",
       "1                                  NaN   \n",
       "2                                  NaN   \n",
       "\n",
       "  clinical_results.participant_flow.period_list.period  \\\n",
       "0                                                NaN     \n",
       "1                                                NaN     \n",
       "2                                                NaN     \n",
       "\n",
       "  clinical_results.reported_events.other_events.category_list.category.event_list.event.counts.@group_id  \\\n",
       "0                                                NaN                                                       \n",
       "1                                                NaN                                                       \n",
       "2                                                NaN                                                       \n",
       "\n",
       "  clinical_results.reported_events.other_events.category_list.category.event_list.event.counts.@subjects_affected  \\\n",
       "0                                                NaN                                                                \n",
       "1                                                NaN                                                                \n",
       "2                                                NaN                                                                \n",
       "\n",
       "  clinical_results.reported_events.other_events.category_list.category.event_list.event.counts.@subjects_at_risk  \n",
       "0                                                NaN                                                              \n",
       "1                                                NaN                                                              \n",
       "2                                                NaN                                                              \n",
       "\n",
       "[3 rows x 221 columns]"
      ]
     },
     "execution_count": 13,
     "metadata": {},
     "output_type": "execute_result"
    }
   ],
   "source": [
    "master_df = pd.read_csv(f'{CSV_DATA_DIR}/covid-19-clinical-trials-master.csv', low_memory=False)\n",
    "master_df.head(3)"
   ]
  },
  {
   "cell_type": "code",
   "execution_count": 14,
   "id": "fitted-mumbai",
   "metadata": {},
   "outputs": [
    {
     "data": {
      "text/plain": [
       "4542"
      ]
     },
     "execution_count": 14,
     "metadata": {},
     "output_type": "execute_result"
    }
   ],
   "source": [
    "# N studies as of 2021-01-22\n",
    "n_studies = len(master_df)\n",
    "n_studies"
   ]
  },
  {
   "cell_type": "code",
   "execution_count": 15,
   "id": "front-bangkok",
   "metadata": {
    "scrolled": true
   },
   "outputs": [
    {
     "name": "stdout",
     "output_type": "stream",
     "text": [
      "overall_status\n",
      "Active, not recruiting      354\n",
      "Approved for marketing        2\n",
      "Available                    24\n",
      "Completed                   663\n",
      "Enrolling by invitation     152\n",
      "No longer available           5\n",
      "Not yet recruiting          913\n",
      "Recruiting                 2280\n",
      "Suspended                    23\n",
      "Terminated                   47\n",
      "Withdrawn                    79\n",
      "dtype: int64 \n",
      "\n",
      "phase\n",
      "Early Phase 1        39\n",
      "Phase 1             192\n",
      "Phase 1/Phase 2     158\n",
      "Phase 2             604\n",
      "Phase 2/Phase 3     174\n",
      "Phase 3             388\n",
      "Phase 4             118\n",
      "nan                2869\n",
      "dtype: int64 \n",
      "\n",
      "study_type\n",
      "Expanded Access                       31\n",
      "Interventional                      2566\n",
      "Observational                       1681\n",
      "Observational [Patient Registry]     264\n",
      "dtype: int64 \n",
      "\n",
      "intervention.intervention_type\n",
      "Behavioral              159\n",
      "Biological              209\n",
      "Combination Product      12\n",
      "Device                  165\n",
      "Diagnostic Test         338\n",
      "Dietary Supplement       34\n",
      "Drug                    434\n",
      "Genetic                   7\n",
      "Other                   724\n",
      "Procedure                71\n",
      "Radiation                14\n",
      "nan                    2375\n",
      "dtype: int64 \n",
      "\n",
      "enrollment.@type\n",
      "Actual         1007\n",
      "Anticipated    3504\n",
      "nan              31\n",
      "dtype: int64 \n",
      "\n",
      "eligibility.gender\n",
      "All       4408\n",
      "Female      96\n",
      "Male        37\n",
      "nan          1\n",
      "dtype: int64 \n",
      "\n",
      "eligibility.healthy_volunteers\n",
      "Accepts Healthy Volunteers    1146\n",
      "No                            3067\n",
      "nan                            329\n",
      "dtype: int64 \n",
      "\n",
      "study_design_info.primary_purpose\n",
      "Basic Science                 29\n",
      "Device Feasibility             8\n",
      "Diagnostic                   117\n",
      "Health Services Research      52\n",
      "Other                        123\n",
      "Prevention                   404\n",
      "Screening                     27\n",
      "Supportive Care              122\n",
      "Treatment                   1684\n",
      "nan                         1976\n",
      "dtype: int64 \n",
      "\n"
     ]
    }
   ],
   "source": [
    "# Categorical aggregations of interest\n",
    "agg_cols = [\n",
    "    'overall_status', \n",
    "    'phase', \n",
    "    'study_type', \n",
    "    'intervention.intervention_type', \n",
    "    'enrollment.@type', \n",
    "    'eligibility.gender',\n",
    "    'eligibility.healthy_volunteers',\n",
    "    'study_design_info.primary_purpose'\n",
    "]\n",
    "\n",
    "for col in agg_cols:\n",
    "    agg_df = master_df.astype(str).groupby(col).size()\n",
    "    print(agg_df, '\\n')"
   ]
  },
  {
   "cell_type": "markdown",
   "id": "hundred-wireless",
   "metadata": {},
   "source": [
    "Categorical features are potential targets for classification models. For best performance we should choose one which is relatively balanced and has relatively few null values."
   ]
  },
  {
   "cell_type": "code",
   "execution_count": 16,
   "id": "burning-franchise",
   "metadata": {},
   "outputs": [
    {
     "name": "stdout",
     "output_type": "stream",
     "text": [
      "663 of the 4542 (14.60%) studies in this dataset have already been completed.\n"
     ]
    }
   ],
   "source": [
    "# Compute a statistic of interest\n",
    "status_col = master_df['overall_status']\n",
    "n_completed = len(master_df[status_col == 'Completed'])\n",
    "study_completion_pct = n_completed / n_studies\n",
    "print(f'{n_completed} of the {n_studies} ({study_completion_pct:.2%}) ' \\\n",
    "       'studies in this dataset have already been completed.')"
   ]
  },
  {
   "cell_type": "code",
   "execution_count": 17,
   "id": "varying-fiber",
   "metadata": {},
   "outputs": [],
   "source": [
    "# Examine study volume and enrollment over time\n",
    "# NOTE: '*' cols depend on '<col>.@type' : 'Actual', 'Anticipated', etc.)\n",
    "# NOTE: '~' cols may contain more than one date as a list (process later)\n",
    "date_cols = [\n",
    "    'verification_date', \n",
    "    'study_first_submitted', \n",
    "    'study_first_submitted_qc',\n",
    "    'last_update_submitted',\n",
    "    'last_update_submitted_qc',\n",
    "    'start_date.#text',              # *\n",
    "    'completion_date.#text',         # *\n",
    "    'primary_completion_date.#text', # *\n",
    "    'study_first_posted.#text',      # *\n",
    "    'last_update_posted.#text',      # *\n",
    "    #'pending_results.submitted',    # ~\n",
    "    #'pending_results.returned'      # ~\n",
    "]\n",
    "\n",
    "for col in date_cols:\n",
    "    # Overwrite string dates with pandas datetimes\n",
    "    master_df[col] = pd.to_datetime(master_df[col])"
   ]
  },
  {
   "cell_type": "code",
   "execution_count": 18,
   "id": "living-developer",
   "metadata": {},
   "outputs": [
    {
     "data": {
      "text/html": [
       "<div>\n",
       "<style scoped>\n",
       "    .dataframe tbody tr th:only-of-type {\n",
       "        vertical-align: middle;\n",
       "    }\n",
       "\n",
       "    .dataframe tbody tr th {\n",
       "        vertical-align: top;\n",
       "    }\n",
       "\n",
       "    .dataframe thead th {\n",
       "        text-align: right;\n",
       "    }\n",
       "</style>\n",
       "<table border=\"1\" class=\"dataframe\">\n",
       "  <thead>\n",
       "    <tr style=\"text-align: right;\">\n",
       "      <th></th>\n",
       "      <th>verification_date</th>\n",
       "      <th>study_first_submitted</th>\n",
       "      <th>study_first_submitted_qc</th>\n",
       "      <th>last_update_submitted</th>\n",
       "      <th>last_update_submitted_qc</th>\n",
       "      <th>start_date.#text</th>\n",
       "      <th>completion_date.#text</th>\n",
       "      <th>primary_completion_date.#text</th>\n",
       "      <th>study_first_posted.#text</th>\n",
       "      <th>last_update_posted.#text</th>\n",
       "    </tr>\n",
       "  </thead>\n",
       "  <tbody>\n",
       "    <tr>\n",
       "      <th>0</th>\n",
       "      <td>2021-01-01</td>\n",
       "      <td>2020-04-24</td>\n",
       "      <td>2020-04-27</td>\n",
       "      <td>2021-01-11</td>\n",
       "      <td>2021-01-11</td>\n",
       "      <td>2020-05-14</td>\n",
       "      <td>2021-11-01</td>\n",
       "      <td>2021-08-01</td>\n",
       "      <td>2020-04-29</td>\n",
       "      <td>2021-01-13</td>\n",
       "    </tr>\n",
       "    <tr>\n",
       "      <th>1</th>\n",
       "      <td>2020-07-01</td>\n",
       "      <td>2020-06-26</td>\n",
       "      <td>2020-07-08</td>\n",
       "      <td>2020-07-08</td>\n",
       "      <td>2020-07-08</td>\n",
       "      <td>2020-04-21</td>\n",
       "      <td>2021-05-31</td>\n",
       "      <td>2021-03-31</td>\n",
       "      <td>2020-07-09</td>\n",
       "      <td>2020-07-09</td>\n",
       "    </tr>\n",
       "    <tr>\n",
       "      <th>2</th>\n",
       "      <td>2020-10-01</td>\n",
       "      <td>2020-10-15</td>\n",
       "      <td>2020-10-15</td>\n",
       "      <td>2020-10-15</td>\n",
       "      <td>2020-10-15</td>\n",
       "      <td>2020-11-01</td>\n",
       "      <td>2023-11-01</td>\n",
       "      <td>2022-11-01</td>\n",
       "      <td>2020-10-19</td>\n",
       "      <td>2020-10-19</td>\n",
       "    </tr>\n",
       "    <tr>\n",
       "      <th>3</th>\n",
       "      <td>2020-10-01</td>\n",
       "      <td>2020-09-03</td>\n",
       "      <td>2020-09-03</td>\n",
       "      <td>2020-10-14</td>\n",
       "      <td>2020-10-14</td>\n",
       "      <td>2020-11-01</td>\n",
       "      <td>2021-09-30</td>\n",
       "      <td>2021-09-30</td>\n",
       "      <td>2020-09-07</td>\n",
       "      <td>2020-10-19</td>\n",
       "    </tr>\n",
       "    <tr>\n",
       "      <th>4</th>\n",
       "      <td>2020-10-06</td>\n",
       "      <td>2020-04-03</td>\n",
       "      <td>2020-04-03</td>\n",
       "      <td>2020-10-07</td>\n",
       "      <td>2020-10-07</td>\n",
       "      <td>2020-08-26</td>\n",
       "      <td>2022-03-31</td>\n",
       "      <td>2022-03-31</td>\n",
       "      <td>2020-04-06</td>\n",
       "      <td>2020-10-08</td>\n",
       "    </tr>\n",
       "  </tbody>\n",
       "</table>\n",
       "</div>"
      ],
      "text/plain": [
       "  verification_date study_first_submitted study_first_submitted_qc  \\\n",
       "0        2021-01-01            2020-04-24               2020-04-27   \n",
       "1        2020-07-01            2020-06-26               2020-07-08   \n",
       "2        2020-10-01            2020-10-15               2020-10-15   \n",
       "3        2020-10-01            2020-09-03               2020-09-03   \n",
       "4        2020-10-06            2020-04-03               2020-04-03   \n",
       "\n",
       "  last_update_submitted last_update_submitted_qc start_date.#text  \\\n",
       "0            2021-01-11               2021-01-11       2020-05-14   \n",
       "1            2020-07-08               2020-07-08       2020-04-21   \n",
       "2            2020-10-15               2020-10-15       2020-11-01   \n",
       "3            2020-10-14               2020-10-14       2020-11-01   \n",
       "4            2020-10-07               2020-10-07       2020-08-26   \n",
       "\n",
       "  completion_date.#text primary_completion_date.#text  \\\n",
       "0            2021-11-01                    2021-08-01   \n",
       "1            2021-05-31                    2021-03-31   \n",
       "2            2023-11-01                    2022-11-01   \n",
       "3            2021-09-30                    2021-09-30   \n",
       "4            2022-03-31                    2022-03-31   \n",
       "\n",
       "  study_first_posted.#text last_update_posted.#text  \n",
       "0               2020-04-29               2021-01-13  \n",
       "1               2020-07-09               2020-07-09  \n",
       "2               2020-10-19               2020-10-19  \n",
       "3               2020-09-07               2020-10-19  \n",
       "4               2020-04-06               2020-10-08  "
      ]
     },
     "execution_count": 18,
     "metadata": {},
     "output_type": "execute_result"
    }
   ],
   "source": [
    "master_df[date_cols].head()"
   ]
  },
  {
   "cell_type": "code",
   "execution_count": 19,
   "id": "painful-glass",
   "metadata": {},
   "outputs": [
    {
     "data": {
      "image/png": "[encoded data removed]",
      "text/plain": [
       "<Figure size 1080x480 with 1 Axes>"
      ]
     },
     "metadata": {},
     "output_type": "display_data"
    }
   ],
   "source": [
    "# Plot study volume over time\n",
    "sns.set()\n",
    "plt.rcParams['font.family'] = 'monospace'\n",
    "fig, ax = plt.subplots(figsize=(9,4), dpi=120)\n",
    "\n",
    "posted_col = master_df['study_first_posted.#text']\n",
    "posted_dates_2020 = master_df[posted_col.dt.year >= 2020]\n",
    "posted_dates_2020_counts = \\\n",
    "    posted_dates_2020.groupby('study_first_posted.#text').size()\n",
    "\n",
    "sma_posted_7  = posted_dates_2020_counts.rolling(window=7).mean()\n",
    "sma_posted_30 = posted_dates_2020_counts.rolling(window=30).mean()\n",
    "\n",
    "ax.set_title(\n",
    "    'COVID-19-related studies posted on clinicaltrials.gov', \n",
    "    fontsize=10, loc='left'\n",
    ")\n",
    "ax.xaxis.set_major_locator(mdates.YearLocator())\n",
    "ax.xaxis.set_minor_locator(mdates.MonthLocator())\n",
    "ax.xaxis.set_major_formatter(mdates.DateFormatter(\"%b\\n%Y\"))\n",
    "ax.xaxis.set_minor_formatter(mdates.DateFormatter(\"%b\"))\n",
    "ax.grid(True, which='minor')\n",
    "\n",
    "ax.plot(\n",
    "    posted_dates_2020_counts, \n",
    "    label='study_first_posted', \n",
    "    linewidth=0.75, linestyle='-', color='#4E6AAA'\n",
    ")\n",
    "ax.plot(\n",
    "    sma_posted_7, \n",
    "    label=' 7 day SMA', \n",
    "    linewidth=0.75, linestyle='-', color='#00BCD4'\n",
    ")\n",
    "ax.plot(\n",
    "    sma_posted_30, \n",
    "    label='30 day SMA', \n",
    "    linewidth=0.88, linestyle='-', color='#FFCD33'\n",
    ")\n",
    "\n",
    "ax.tick_params(axis='both', which='major', labelsize=8)\n",
    "ax.tick_params(axis='both', which='minor', labelsize=8)\n",
    "plt.legend(loc='upper right', fontsize=8)\n",
    "plt.margins(0.05, 0.2)\n",
    "plt.ylim(bottom=0)\n",
    "plt.show()"
   ]
  },
  {
   "cell_type": "code",
   "execution_count": 20,
   "id": "plastic-strip",
   "metadata": {},
   "outputs": [
    {
     "data": {
      "text/plain": [
       "count       1007.00000\n",
       "mean       23643.07249\n",
       "std       384242.32478\n",
       "min            0.00000\n",
       "25%           35.00000\n",
       "50%          114.00000\n",
       "75%          393.00000\n",
       "max      7882471.00000\n",
       "Name: enrollment.#text, dtype: object"
      ]
     },
     "execution_count": 20,
     "metadata": {},
     "output_type": "execute_result"
    }
   ],
   "source": [
    "# Examine actual enrollment numbers and convert to int\n",
    "enrollment_type_col = master_df['enrollment.@type']\n",
    "enrolled_df = master_df[enrollment_type_col == 'Actual'].copy()\n",
    "enrolled_df['enrollment.#text'] = enrolled_df['enrollment.#text'].astype(int)\n",
    "enrolled_df['enrollment.#text'].describe().apply(lambda x: f'{x:.5f}')"
   ]
  },
  {
   "cell_type": "markdown",
   "id": "separated-kitty",
   "metadata": {},
   "source": [
    "One trial appears to have 7.88 million subjects enrolled. We'll definitely want to investigate that particular study more."
   ]
  },
  {
   "cell_type": "code",
   "execution_count": 21,
   "id": "thrown-adobe",
   "metadata": {},
   "outputs": [
    {
     "name": "stdout",
     "output_type": "stream",
     "text": [
      "Studies with patients enrolled: 22.17%\n"
     ]
    }
   ],
   "source": [
    "# Compute percentage of trials with patients enrolled\n",
    "pct_trials_with_pts = len(enrolled_df) / len(master_df)\n",
    "print(f'Studies with patients enrolled: {pct_trials_with_pts:.2%}')"
   ]
  },
  {
   "cell_type": "code",
   "execution_count": 22,
   "id": "bizarre-details",
   "metadata": {},
   "outputs": [
    {
     "data": {
      "image/png": "[encoded data removed]",
      "text/plain": [
       "<Figure size 800x150 with 1 Axes>"
      ]
     },
     "metadata": {},
     "output_type": "display_data"
    }
   ],
   "source": [
    "# Visualize actual v. anticipated enrollment\n",
    "enrollment_cats = ['Actual', 'Anticipated']\n",
    "master_df['enrollment.@type'] = \\\n",
    "    pd.Categorical(master_df['enrollment.@type'], categories=enrollment_cats)\n",
    "\n",
    "fig, ax = plt.subplots(figsize=(8,1.5), dpi=100)\n",
    "ax = sns.boxplot(\n",
    "    x='enrollment.#text', \n",
    "    y='enrollment.@type', \n",
    "    data=master_df,\n",
    "    palette=['#6495ED', '#FFCD33']\n",
    ")\n",
    "ax.set_xlabel('')\n",
    "ax.set_ylabel('')\n",
    "ax.set(xscale='log')\n",
    "ax.set_title('$\\mathit{N}$' + ' subjects enrolled')\n",
    "plt.show()"
   ]
  },
  {
   "cell_type": "markdown",
   "id": "fabulous-wayne",
   "metadata": {},
   "source": [
    "#### Boxplot observations:\n",
    " - The median (p50) of actual enrolled subjects is around 100 per study\n",
    " - Anticipated enrollment is generally overestimated (could quantify this)\n",
    " - Distribution is highly skewed with a long right tail of outliers (could measure this)\n",
    " - Attempting to predict enrollment numbers is **NOT** a reasonable machine learning task given such high variance"
   ]
  },
  {
   "cell_type": "markdown",
   "id": "scientific-animal",
   "metadata": {},
   "source": [
    "#### [**BACK TO TOP**](#top)"
   ]
  },
  {
   "cell_type": "markdown",
   "id": "steady-brain",
   "metadata": {},
   "source": [
    "<a id='section3'></a>\n",
    "## 03. Modeling\n",
    "\n",
    "- In this example we will use a combination of categorical and numerical features to predict ```study_type```.\n",
    "- Some feature engineering will be required to generate meaningful numeric features from date columns.\n",
    "- Special care should be taken not to include features which could be potential sources of bias.\n",
    "- Features that could potentially bias our model include gender eligibility, investigator names, etc.\n",
    "- Good performance will also require features which are not highly correlated."
   ]
  },
  {
   "cell_type": "code",
   "execution_count": 23,
   "id": "inner-dublin",
   "metadata": {},
   "outputs": [],
   "source": [
    "# Select categorical features first, replacing NaNs with empty strings\n",
    "model_cols = [\n",
    "    'overall_status', \n",
    "    'eligibility.healthy_volunteers'\n",
    "]\n",
    "\n",
    "model_df = master_df[model_cols].copy()\n",
    "model_df['enrollment_type'] = master_df['enrollment.@type'].astype(str)\n",
    "model_df = model_df.replace(np.nan, '', regex=True)"
   ]
  },
  {
   "cell_type": "code",
   "execution_count": 24,
   "id": "arctic-technician",
   "metadata": {},
   "outputs": [],
   "source": [
    "# Date feature engineering \n",
    "model_df['days_posted_delta']   = (master_df['last_update_posted.#text'] - master_df['study_first_posted.#text']).dt.days\n",
    "model_df['days_verified_delta'] = (master_df['last_update_submitted'] - master_df['verification_date']).dt.days"
   ]
  },
  {
   "cell_type": "code",
   "execution_count": 25,
   "id": "herbal-complement",
   "metadata": {},
   "outputs": [],
   "source": [
    "# Handle nulls for this numeric column\n",
    "model_df['enrollment_count'] = master_df['enrollment.#text']\n",
    "model_df['enrollment_count'] = model_df['enrollment_count'].replace(np.nan, 0.0, regex=True)"
   ]
  },
  {
   "cell_type": "code",
   "execution_count": 26,
   "id": "subject-holmes",
   "metadata": {},
   "outputs": [],
   "source": [
    "# Add the predictive target column last\n",
    "model_df['study_type'] = master_df['study_type']"
   ]
  },
  {
   "cell_type": "code",
   "execution_count": 27,
   "id": "processed-coast",
   "metadata": {},
   "outputs": [
    {
     "data": {
      "text/html": [
       "<div>\n",
       "<style scoped>\n",
       "    .dataframe tbody tr th:only-of-type {\n",
       "        vertical-align: middle;\n",
       "    }\n",
       "\n",
       "    .dataframe tbody tr th {\n",
       "        vertical-align: top;\n",
       "    }\n",
       "\n",
       "    .dataframe thead th {\n",
       "        text-align: right;\n",
       "    }\n",
       "</style>\n",
       "<table border=\"1\" class=\"dataframe\">\n",
       "  <thead>\n",
       "    <tr style=\"text-align: right;\">\n",
       "      <th></th>\n",
       "      <th>overall_status</th>\n",
       "      <th>eligibility.healthy_volunteers</th>\n",
       "      <th>enrollment_type</th>\n",
       "      <th>days_posted_delta</th>\n",
       "      <th>days_verified_delta</th>\n",
       "      <th>enrollment_count</th>\n",
       "      <th>study_type</th>\n",
       "    </tr>\n",
       "  </thead>\n",
       "  <tbody>\n",
       "    <tr>\n",
       "      <th>0</th>\n",
       "      <td>Recruiting</td>\n",
       "      <td>No</td>\n",
       "      <td>Anticipated</td>\n",
       "      <td>259</td>\n",
       "      <td>10</td>\n",
       "      <td>2712.0</td>\n",
       "      <td>Interventional</td>\n",
       "    </tr>\n",
       "    <tr>\n",
       "      <th>1</th>\n",
       "      <td>Enrolling by invitation</td>\n",
       "      <td>No</td>\n",
       "      <td>Anticipated</td>\n",
       "      <td>0</td>\n",
       "      <td>7</td>\n",
       "      <td>300.0</td>\n",
       "      <td>Interventional</td>\n",
       "    </tr>\n",
       "    <tr>\n",
       "      <th>2</th>\n",
       "      <td>Not yet recruiting</td>\n",
       "      <td>Accepts Healthy Volunteers</td>\n",
       "      <td>Anticipated</td>\n",
       "      <td>0</td>\n",
       "      <td>14</td>\n",
       "      <td>120.0</td>\n",
       "      <td>Interventional</td>\n",
       "    </tr>\n",
       "    <tr>\n",
       "      <th>3</th>\n",
       "      <td>Recruiting</td>\n",
       "      <td>No</td>\n",
       "      <td>Anticipated</td>\n",
       "      <td>42</td>\n",
       "      <td>13</td>\n",
       "      <td>15.0</td>\n",
       "      <td>Interventional</td>\n",
       "    </tr>\n",
       "    <tr>\n",
       "      <th>4</th>\n",
       "      <td>Recruiting</td>\n",
       "      <td>Accepts Healthy Volunteers</td>\n",
       "      <td>Anticipated</td>\n",
       "      <td>185</td>\n",
       "      <td>1</td>\n",
       "      <td>15000.0</td>\n",
       "      <td>Observational</td>\n",
       "    </tr>\n",
       "  </tbody>\n",
       "</table>\n",
       "</div>"
      ],
      "text/plain": [
       "            overall_status eligibility.healthy_volunteers enrollment_type  \\\n",
       "0               Recruiting                             No     Anticipated   \n",
       "1  Enrolling by invitation                             No     Anticipated   \n",
       "2       Not yet recruiting     Accepts Healthy Volunteers     Anticipated   \n",
       "3               Recruiting                             No     Anticipated   \n",
       "4               Recruiting     Accepts Healthy Volunteers     Anticipated   \n",
       "\n",
       "   days_posted_delta  days_verified_delta  enrollment_count      study_type  \n",
       "0                259                   10            2712.0  Interventional  \n",
       "1                  0                    7             300.0  Interventional  \n",
       "2                  0                   14             120.0  Interventional  \n",
       "3                 42                   13              15.0  Interventional  \n",
       "4                185                    1           15000.0   Observational  "
      ]
     },
     "execution_count": 27,
     "metadata": {},
     "output_type": "execute_result"
    }
   ],
   "source": [
    "model_df.head()"
   ]
  },
  {
   "cell_type": "code",
   "execution_count": 28,
   "id": "resident-running",
   "metadata": {},
   "outputs": [
    {
     "data": {
      "text/plain": [
       "overall_status                     object\n",
       "eligibility.healthy_volunteers     object\n",
       "enrollment_type                    object\n",
       "days_posted_delta                   int64\n",
       "days_verified_delta                 int64\n",
       "enrollment_count                  float64\n",
       "study_type                         object\n",
       "dtype: object"
      ]
     },
     "execution_count": 28,
     "metadata": {},
     "output_type": "execute_result"
    }
   ],
   "source": [
    "# Validate type conversions\n",
    "model_df.dtypes"
   ]
  },
  {
   "cell_type": "code",
   "execution_count": 29,
   "id": "existing-qualification",
   "metadata": {},
   "outputs": [
    {
     "data": {
      "text/plain": [
       "overall_status                    0\n",
       "eligibility.healthy_volunteers    0\n",
       "enrollment_type                   0\n",
       "days_posted_delta                 0\n",
       "days_verified_delta               0\n",
       "enrollment_count                  0\n",
       "study_type                        0\n",
       "dtype: int64"
      ]
     },
     "execution_count": 29,
     "metadata": {},
     "output_type": "execute_result"
    }
   ],
   "source": [
    "# Validate NaN handling\n",
    "model_df.isna().sum()"
   ]
  },
  {
   "cell_type": "code",
   "execution_count": 30,
   "id": "colored-recruitment",
   "metadata": {},
   "outputs": [
    {
     "data": {
      "text/plain": [
       "study_type\n",
       "Expanded Access                       31\n",
       "Interventional                      2566\n",
       "Observational                       1681\n",
       "Observational [Patient Registry]     264\n",
       "dtype: int64"
      ]
     },
     "execution_count": 30,
     "metadata": {},
     "output_type": "execute_result"
    }
   ],
   "source": [
    "# Examine target class distribution\n",
    "model_df.groupby('study_type').size()"
   ]
  },
  {
   "cell_type": "code",
   "execution_count": 31,
   "id": "domestic-compiler",
   "metadata": {},
   "outputs": [],
   "source": [
    "# Filter out minority classes from target as they are much harder to predict\n",
    "model_df = model_df[(model_df['study_type'] == 'Interventional') | (model_df['study_type'] == 'Observational')]"
   ]
  },
  {
   "cell_type": "code",
   "execution_count": 32,
   "id": "coordinate-condition",
   "metadata": {},
   "outputs": [],
   "source": [
    "# Prepare data\n",
    "X = model_df.drop('study_type', axis=1)  # feature matrix\n",
    "y = model_df['study_type']               # target vector\n",
    "\n",
    "# Encoding should be performed AFTER splitting to prevent data leakage\n",
    "X_train, X_test, y_train, y_test = train_test_split(\n",
    "    X, y, test_size=0.2, random_state=42\n",
    ")"
   ]
  },
  {
   "cell_type": "code",
   "execution_count": 33,
   "id": "preceding-cement",
   "metadata": {},
   "outputs": [],
   "source": [
    "# Build out the prediction pipeline\n",
    "categorical_features = ['overall_status', 'eligibility.healthy_volunteers', 'enrollment_type']\n",
    "numeric_features = ['days_posted_delta', 'days_verified_delta', 'enrollment_count']\n",
    "\n",
    "# https://stackoverflow.com/questions/43798377\n",
    "numeric_transformer = Pipeline(steps=[\n",
    "    ('imputer', SimpleImputer(strategy='median')),\n",
    "    ('scaler', StandardScaler())])\n",
    "\n",
    "categorical_transformer = Pipeline(steps=[\n",
    "    ('imputer', SimpleImputer(strategy='constant', fill_value='missing')),\n",
    "    ('onehot', OneHotEncoder(handle_unknown='ignore'))])\n",
    "\n",
    "# Combine the two feature pipelines\n",
    "preprocessor = ColumnTransformer(\n",
    "    transformers=[\n",
    "        ('num', numeric_transformer, numeric_features),\n",
    "        ('cat', categorical_transformer, categorical_features)])\n",
    "\n",
    "# Append the classifier\n",
    "clf = Pipeline(steps=[\n",
    "    ('preprocessor', preprocessor),\n",
    "    ('classifier', GradientBoostingClassifier())])"
   ]
  },
  {
   "cell_type": "code",
   "execution_count": 34,
   "id": "higher-tender",
   "metadata": {},
   "outputs": [
    {
     "name": "stdout",
     "output_type": "stream",
     "text": [
      "Model score: 0.702\n"
     ]
    }
   ],
   "source": [
    "clf.fit(X_train, y_train)\n",
    "print(f'Model score: {clf.score(X_test, y_test):.3f}')"
   ]
  },
  {
   "cell_type": "code",
   "execution_count": 35,
   "id": "varied-miller",
   "metadata": {},
   "outputs": [
    {
     "name": "stdout",
     "output_type": "stream",
     "text": [
      "                precision    recall  f1-score   support\n",
      "\n",
      "Interventional       0.68      0.89      0.77       472\n",
      " Observational       0.77      0.47      0.58       378\n",
      "\n",
      "      accuracy                           0.70       850\n",
      "     macro avg       0.72      0.68      0.68       850\n",
      "  weighted avg       0.72      0.70      0.69       850\n",
      "\n"
     ]
    }
   ],
   "source": [
    "predictions = clf.predict(X_test)\n",
    "print(classification_report(y_test, predictions))"
   ]
  },
  {
   "cell_type": "markdown",
   "id": "sunrise-watch",
   "metadata": {},
   "source": [
    "#### Improving Model Performance via Hyperparameter Optimization (HPO)"
   ]
  },
  {
   "cell_type": "code",
   "execution_count": 36,
   "id": "accepting-religious",
   "metadata": {},
   "outputs": [],
   "source": [
    "# Prepare data\n",
    "X = model_df.drop('study_type', axis=1)                              # feature matrix\n",
    "\n",
    "# Convert target to numeric type\n",
    "model_df['study_type'] = model_df['study_type'].astype('category')              \n",
    "model_df['study_type'] = model_df['study_type'].cat.codes                                 \n",
    "y = model_df['study_type']                                           # target vector\n",
    "\n",
    "# Encoding should be performed AFTER splitting to prevent data leakage\n",
    "X_train, X_test, y_train, y_test = train_test_split(\n",
    "    X, y, test_size=0.2, random_state=42\n",
    ")"
   ]
  },
  {
   "cell_type": "code",
   "execution_count": 37,
   "id": "color-laptop",
   "metadata": {},
   "outputs": [
    {
     "name": "stdout",
     "output_type": "stream",
     "text": [
      "CPU times: user 34.9 s, sys: 71 ms, total: 35 s\n",
      "Wall time: 35 s\n"
     ]
    }
   ],
   "source": [
    "%%time\n",
    "num_folds = 10\n",
    "acc = 'accuracy'\n",
    "pipe = Pipeline(steps=[\n",
    "    ('preprocessor', preprocessor),\n",
    "    ('classifier', GradientBoostingClassifier(random_state=42))])\n",
    "\n",
    "# Search space\n",
    "param_grid = {\n",
    "    'classifier__n_estimators'  : [50, 100, 150, 200, 250],\n",
    "    'classifier__learning_rate' : [0.05, 0.1]\n",
    "}\n",
    "\n",
    "k_fold = KFold(n_splits=num_folds, shuffle=True, random_state=42)\n",
    "grid = GridSearchCV(pipe, param_grid=param_grid, scoring=acc, cv=k_fold)\n",
    "grid_result = grid.fit(X_train, y_train)"
   ]
  },
  {
   "cell_type": "code",
   "execution_count": 38,
   "id": "verbal-tampa",
   "metadata": {},
   "outputs": [
    {
     "name": "stdout",
     "output_type": "stream",
     "text": [
      "Best accuracy: 0.72858 using {'classifier__learning_rate': 0.1, 'classifier__n_estimators': 50}\n",
      "0.72209 (0.02482) with: {'classifier__learning_rate': 0.05, 'classifier__n_estimators': 50}\n",
      "0.72798 (0.02776) with: {'classifier__learning_rate': 0.05, 'classifier__n_estimators': 100}\n",
      "0.72798 (0.02535) with: {'classifier__learning_rate': 0.05, 'classifier__n_estimators': 150}\n",
      "0.72681 (0.02242) with: {'classifier__learning_rate': 0.05, 'classifier__n_estimators': 200}\n",
      "0.72769 (0.02181) with: {'classifier__learning_rate': 0.05, 'classifier__n_estimators': 250}\n",
      "0.72858 (0.02297) with: {'classifier__learning_rate': 0.1, 'classifier__n_estimators': 50}\n",
      "0.72770 (0.02548) with: {'classifier__learning_rate': 0.1, 'classifier__n_estimators': 100}\n",
      "0.72652 (0.02187) with: {'classifier__learning_rate': 0.1, 'classifier__n_estimators': 150}\n",
      "0.72711 (0.02648) with: {'classifier__learning_rate': 0.1, 'classifier__n_estimators': 200}\n",
      "0.72535 (0.02163) with: {'classifier__learning_rate': 0.1, 'classifier__n_estimators': 250}\n"
     ]
    }
   ],
   "source": [
    "# REFERENCE: Python for DevOps Ch.14 (O'Reilly 2019)\n",
    "print(f'Best {acc}: {grid_result.best_score_:.5f} using {grid_result.best_params_}')\n",
    "means    = grid_result.cv_results_['mean_test_score']\n",
    "std_devs = grid_result.cv_results_['std_test_score']\n",
    "params   = grid_result.cv_results_['params']\n",
    "\n",
    "for mean, std_dev, param in zip(means, std_devs, params):\n",
    "    print(f'{mean:.5f} ({std_dev:.5f}) with: {param}')"
   ]
  },
  {
   "cell_type": "code",
   "execution_count": 43,
   "id": "premium-replication",
   "metadata": {},
   "outputs": [
    {
     "name": "stdout",
     "output_type": "stream",
     "text": [
      "Cross Validation and HPO increased the accuracy of the model by 3.79%\n"
     ]
    }
   ],
   "source": [
    "prev_score, new_score = 0.702, 0.72858\n",
    "pct_change = (new_score - prev_score) / prev_score \n",
    "print(f'Cross Validation and HPO increased the accuracy of the model by {pct_change:.2%}')"
   ]
  },
  {
   "cell_type": "markdown",
   "id": "brave-lesbian",
   "metadata": {},
   "source": [
    "#### [**BACK TO TOP**](#top)"
   ]
  },
  {
   "cell_type": "markdown",
   "id": "intellectual-network",
   "metadata": {},
   "source": [
    "<a id='section4'></a>\n",
    "## 04. Conclusion"
   ]
  },
  {
   "cell_type": "markdown",
   "id": "permanent-creation",
   "metadata": {},
   "source": [
    "- This example illustrates the challenges associated with applying machine learning approaches to real-world data. \n",
    "- Thorough exploratory analysis guides and informs modeling decisions, **most importantly** deciding what is and is not feasible to try to predict using machine learning.\n",
    "- Cross-validation and hyperparameter optimization did not improve this model's performance substantially.\n",
    "    * However, these methods should never be relied upon to correct flawed assumptions in the upstream design and engineering processes.\n",
    "- A logical next project would be to explore the potential of our text file corpus using deep learning approaches."
   ]
  },
  {
   "cell_type": "markdown",
   "id": "false-husband",
   "metadata": {},
   "source": [
    "#### [**BACK TO TOP**](#top)"
   ]
  }
 ],
 "metadata": {
  "kernelspec": {
   "display_name": "Python 3",
   "language": "python",
   "name": "python3"
  },
  "language_info": {
   "codemirror_mode": {
    "name": "ipython",
    "version": 3
   },
   "file_extension": ".py",
   "mimetype": "text/x-python",
   "name": "python",
   "nbconvert_exporter": "python",
   "pygments_lexer": "ipython3",
   "version": "3.7.7"
  }
 },
 "nbformat": 4,
 "nbformat_minor": 5
}
